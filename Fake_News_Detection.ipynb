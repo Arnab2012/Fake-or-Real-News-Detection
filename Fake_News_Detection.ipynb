{
 "cells": [
  {
   "cell_type": "code",
   "execution_count": 1,
   "metadata": {
    "id": "LVG22ea1mMJX"
   },
   "outputs": [],
   "source": [
    "import numpy as np\n",
    "import pandas as pd"
   ]
  },
  {
   "cell_type": "code",
   "execution_count": 2,
   "metadata": {
    "id": "twDagLIOmfvk"
   },
   "outputs": [],
   "source": [
    "df=pd.read_csv('fake_or_real_news.csv',usecols=['id','title','text','label'])"
   ]
  },
  {
   "cell_type": "code",
   "execution_count": 3,
   "metadata": {
    "colab": {
     "base_uri": "https://localhost:8080/",
     "height": 206
    },
    "id": "Z1GETJXdoIYG",
    "outputId": "b33e82f3-18bc-4133-ae41-418f625829cc"
   },
   "outputs": [
    {
     "data": {
      "text/html": [
       "<div>\n",
       "<style scoped>\n",
       "    .dataframe tbody tr th:only-of-type {\n",
       "        vertical-align: middle;\n",
       "    }\n",
       "\n",
       "    .dataframe tbody tr th {\n",
       "        vertical-align: top;\n",
       "    }\n",
       "\n",
       "    .dataframe thead th {\n",
       "        text-align: right;\n",
       "    }\n",
       "</style>\n",
       "<table border=\"1\" class=\"dataframe\">\n",
       "  <thead>\n",
       "    <tr style=\"text-align: right;\">\n",
       "      <th></th>\n",
       "      <th>id</th>\n",
       "      <th>title</th>\n",
       "      <th>text</th>\n",
       "      <th>label</th>\n",
       "    </tr>\n",
       "  </thead>\n",
       "  <tbody>\n",
       "    <tr>\n",
       "      <th>0</th>\n",
       "      <td>8476</td>\n",
       "      <td>You Can Smell Hillary’s Fear</td>\n",
       "      <td>Daniel Greenfield, a Shillman Journalism Fello...</td>\n",
       "      <td>FAKE</td>\n",
       "    </tr>\n",
       "    <tr>\n",
       "      <th>1</th>\n",
       "      <td>10294</td>\n",
       "      <td>Watch The Exact Moment Paul Ryan Committed Pol...</td>\n",
       "      <td>Google Pinterest Digg Linkedin Reddit Stumbleu...</td>\n",
       "      <td>FAKE</td>\n",
       "    </tr>\n",
       "    <tr>\n",
       "      <th>2</th>\n",
       "      <td>3608</td>\n",
       "      <td>Kerry to go to Paris in gesture of sympathy</td>\n",
       "      <td>U.S. Secretary of State John F. Kerry said Mon...</td>\n",
       "      <td>REAL</td>\n",
       "    </tr>\n",
       "    <tr>\n",
       "      <th>3</th>\n",
       "      <td>10142</td>\n",
       "      <td>Bernie supporters on Twitter erupt in anger ag...</td>\n",
       "      <td>— Kaydee King (@KaydeeKing) November 9, 2016 T...</td>\n",
       "      <td>FAKE</td>\n",
       "    </tr>\n",
       "    <tr>\n",
       "      <th>4</th>\n",
       "      <td>875</td>\n",
       "      <td>The Battle of New York: Why This Primary Matters</td>\n",
       "      <td>It's primary day in New York and front-runners...</td>\n",
       "      <td>REAL</td>\n",
       "    </tr>\n",
       "  </tbody>\n",
       "</table>\n",
       "</div>"
      ],
      "text/plain": [
       "      id                                              title  \\\n",
       "0   8476                       You Can Smell Hillary’s Fear   \n",
       "1  10294  Watch The Exact Moment Paul Ryan Committed Pol...   \n",
       "2   3608        Kerry to go to Paris in gesture of sympathy   \n",
       "3  10142  Bernie supporters on Twitter erupt in anger ag...   \n",
       "4    875   The Battle of New York: Why This Primary Matters   \n",
       "\n",
       "                                                text label  \n",
       "0  Daniel Greenfield, a Shillman Journalism Fello...  FAKE  \n",
       "1  Google Pinterest Digg Linkedin Reddit Stumbleu...  FAKE  \n",
       "2  U.S. Secretary of State John F. Kerry said Mon...  REAL  \n",
       "3  — Kaydee King (@KaydeeKing) November 9, 2016 T...  FAKE  \n",
       "4  It's primary day in New York and front-runners...  REAL  "
      ]
     },
     "execution_count": 3,
     "metadata": {},
     "output_type": "execute_result"
    }
   ],
   "source": [
    "df.head()"
   ]
  },
  {
   "cell_type": "code",
   "execution_count": 4,
   "metadata": {
    "id": "ez_K_Ql7pRnF"
   },
   "outputs": [],
   "source": [
    "df['label']=df['label'].apply(lambda x:1 if x==\"REAL\" else 0)"
   ]
  },
  {
   "cell_type": "code",
   "execution_count": 5,
   "metadata": {
    "colab": {
     "base_uri": "https://localhost:8080/"
    },
    "id": "7Guoxt56qxih",
    "outputId": "1157ce4c-19b3-4855-f9ec-4efc3f18cd5b"
   },
   "outputs": [
    {
     "data": {
      "text/plain": [
       "(7795, 4)"
      ]
     },
     "execution_count": 5,
     "metadata": {},
     "output_type": "execute_result"
    }
   ],
   "source": [
    "df.shape"
   ]
  },
  {
   "cell_type": "code",
   "execution_count": 6,
   "metadata": {
    "colab": {
     "base_uri": "https://localhost:8080/",
     "height": 206
    },
    "id": "KrxVDCjXqCE9",
    "outputId": "f3efe0b0-2115-4112-b976-b742c5cd63e6"
   },
   "outputs": [
    {
     "data": {
      "text/html": [
       "<div>\n",
       "<style scoped>\n",
       "    .dataframe tbody tr th:only-of-type {\n",
       "        vertical-align: middle;\n",
       "    }\n",
       "\n",
       "    .dataframe tbody tr th {\n",
       "        vertical-align: top;\n",
       "    }\n",
       "\n",
       "    .dataframe thead th {\n",
       "        text-align: right;\n",
       "    }\n",
       "</style>\n",
       "<table border=\"1\" class=\"dataframe\">\n",
       "  <thead>\n",
       "    <tr style=\"text-align: right;\">\n",
       "      <th></th>\n",
       "      <th>id</th>\n",
       "      <th>title</th>\n",
       "      <th>text</th>\n",
       "      <th>label</th>\n",
       "    </tr>\n",
       "  </thead>\n",
       "  <tbody>\n",
       "    <tr>\n",
       "      <th>0</th>\n",
       "      <td>8476</td>\n",
       "      <td>You Can Smell Hillary’s Fear</td>\n",
       "      <td>Daniel Greenfield, a Shillman Journalism Fello...</td>\n",
       "      <td>0</td>\n",
       "    </tr>\n",
       "    <tr>\n",
       "      <th>1</th>\n",
       "      <td>10294</td>\n",
       "      <td>Watch The Exact Moment Paul Ryan Committed Pol...</td>\n",
       "      <td>Google Pinterest Digg Linkedin Reddit Stumbleu...</td>\n",
       "      <td>0</td>\n",
       "    </tr>\n",
       "    <tr>\n",
       "      <th>2</th>\n",
       "      <td>3608</td>\n",
       "      <td>Kerry to go to Paris in gesture of sympathy</td>\n",
       "      <td>U.S. Secretary of State John F. Kerry said Mon...</td>\n",
       "      <td>1</td>\n",
       "    </tr>\n",
       "    <tr>\n",
       "      <th>3</th>\n",
       "      <td>10142</td>\n",
       "      <td>Bernie supporters on Twitter erupt in anger ag...</td>\n",
       "      <td>— Kaydee King (@KaydeeKing) November 9, 2016 T...</td>\n",
       "      <td>0</td>\n",
       "    </tr>\n",
       "    <tr>\n",
       "      <th>4</th>\n",
       "      <td>875</td>\n",
       "      <td>The Battle of New York: Why This Primary Matters</td>\n",
       "      <td>It's primary day in New York and front-runners...</td>\n",
       "      <td>1</td>\n",
       "    </tr>\n",
       "  </tbody>\n",
       "</table>\n",
       "</div>"
      ],
      "text/plain": [
       "      id                                              title  \\\n",
       "0   8476                       You Can Smell Hillary’s Fear   \n",
       "1  10294  Watch The Exact Moment Paul Ryan Committed Pol...   \n",
       "2   3608        Kerry to go to Paris in gesture of sympathy   \n",
       "3  10142  Bernie supporters on Twitter erupt in anger ag...   \n",
       "4    875   The Battle of New York: Why This Primary Matters   \n",
       "\n",
       "                                                text  label  \n",
       "0  Daniel Greenfield, a Shillman Journalism Fello...      0  \n",
       "1  Google Pinterest Digg Linkedin Reddit Stumbleu...      0  \n",
       "2  U.S. Secretary of State John F. Kerry said Mon...      1  \n",
       "3  — Kaydee King (@KaydeeKing) November 9, 2016 T...      0  \n",
       "4  It's primary day in New York and front-runners...      1  "
      ]
     },
     "execution_count": 6,
     "metadata": {},
     "output_type": "execute_result"
    }
   ],
   "source": [
    "df.head()"
   ]
  },
  {
   "cell_type": "code",
   "execution_count": 7,
   "metadata": {
    "colab": {
     "base_uri": "https://localhost:8080/"
    },
    "id": "gXr1NWoYqq47",
    "outputId": "21f0bd43-4288-454e-8ef6-18e45a2918f1"
   },
   "outputs": [
    {
     "data": {
      "text/plain": [
       "id       219\n",
       "title    610\n",
       "text     866\n",
       "label      0\n",
       "dtype: int64"
      ]
     },
     "execution_count": 7,
     "metadata": {},
     "output_type": "execute_result"
    }
   ],
   "source": [
    "df.isnull().sum()"
   ]
  },
  {
   "cell_type": "code",
   "execution_count": 8,
   "metadata": {
    "colab": {
     "base_uri": "https://localhost:8080/"
    },
    "id": "uy0EwsLWrkyC",
    "outputId": "63a11a39-e6f9-42ad-d95f-7ba0278d0b6d"
   },
   "outputs": [
    {
     "data": {
      "text/plain": [
       "id       219\n",
       "title    610\n",
       "text     866\n",
       "label      0\n",
       "dtype: int64"
      ]
     },
     "execution_count": 8,
     "metadata": {},
     "output_type": "execute_result"
    }
   ],
   "source": [
    "df.isnull().sum()"
   ]
  },
  {
   "cell_type": "code",
   "execution_count": 9,
   "metadata": {
    "id": "rjKlRbgFrMSP"
   },
   "outputs": [],
   "source": [
    "df['title'].fillna(value=\"missing\",inplace=True)\n",
    "df['text'].fillna(value=\"missing\",inplace=True)"
   ]
  },
  {
   "cell_type": "code",
   "execution_count": 10,
   "metadata": {
    "colab": {
     "base_uri": "https://localhost:8080/",
     "height": 206
    },
    "id": "_VjH68MMr2qb",
    "outputId": "77637992-df64-4d5a-8b8b-ac7dfc8872b3"
   },
   "outputs": [
    {
     "data": {
      "text/html": [
       "<div>\n",
       "<style scoped>\n",
       "    .dataframe tbody tr th:only-of-type {\n",
       "        vertical-align: middle;\n",
       "    }\n",
       "\n",
       "    .dataframe tbody tr th {\n",
       "        vertical-align: top;\n",
       "    }\n",
       "\n",
       "    .dataframe thead th {\n",
       "        text-align: right;\n",
       "    }\n",
       "</style>\n",
       "<table border=\"1\" class=\"dataframe\">\n",
       "  <thead>\n",
       "    <tr style=\"text-align: right;\">\n",
       "      <th></th>\n",
       "      <th>id</th>\n",
       "      <th>title</th>\n",
       "      <th>text</th>\n",
       "      <th>label</th>\n",
       "    </tr>\n",
       "  </thead>\n",
       "  <tbody>\n",
       "    <tr>\n",
       "      <th>0</th>\n",
       "      <td>8476</td>\n",
       "      <td>You Can Smell Hillary’s Fear</td>\n",
       "      <td>Daniel Greenfield, a Shillman Journalism Fello...</td>\n",
       "      <td>0</td>\n",
       "    </tr>\n",
       "    <tr>\n",
       "      <th>1</th>\n",
       "      <td>10294</td>\n",
       "      <td>Watch The Exact Moment Paul Ryan Committed Pol...</td>\n",
       "      <td>Google Pinterest Digg Linkedin Reddit Stumbleu...</td>\n",
       "      <td>0</td>\n",
       "    </tr>\n",
       "    <tr>\n",
       "      <th>2</th>\n",
       "      <td>3608</td>\n",
       "      <td>Kerry to go to Paris in gesture of sympathy</td>\n",
       "      <td>U.S. Secretary of State John F. Kerry said Mon...</td>\n",
       "      <td>1</td>\n",
       "    </tr>\n",
       "    <tr>\n",
       "      <th>3</th>\n",
       "      <td>10142</td>\n",
       "      <td>Bernie supporters on Twitter erupt in anger ag...</td>\n",
       "      <td>— Kaydee King (@KaydeeKing) November 9, 2016 T...</td>\n",
       "      <td>0</td>\n",
       "    </tr>\n",
       "    <tr>\n",
       "      <th>4</th>\n",
       "      <td>875</td>\n",
       "      <td>The Battle of New York: Why This Primary Matters</td>\n",
       "      <td>It's primary day in New York and front-runners...</td>\n",
       "      <td>1</td>\n",
       "    </tr>\n",
       "  </tbody>\n",
       "</table>\n",
       "</div>"
      ],
      "text/plain": [
       "      id                                              title  \\\n",
       "0   8476                       You Can Smell Hillary’s Fear   \n",
       "1  10294  Watch The Exact Moment Paul Ryan Committed Pol...   \n",
       "2   3608        Kerry to go to Paris in gesture of sympathy   \n",
       "3  10142  Bernie supporters on Twitter erupt in anger ag...   \n",
       "4    875   The Battle of New York: Why This Primary Matters   \n",
       "\n",
       "                                                text  label  \n",
       "0  Daniel Greenfield, a Shillman Journalism Fello...      0  \n",
       "1  Google Pinterest Digg Linkedin Reddit Stumbleu...      0  \n",
       "2  U.S. Secretary of State John F. Kerry said Mon...      1  \n",
       "3  — Kaydee King (@KaydeeKing) November 9, 2016 T...      0  \n",
       "4  It's primary day in New York and front-runners...      1  "
      ]
     },
     "execution_count": 10,
     "metadata": {},
     "output_type": "execute_result"
    }
   ],
   "source": [
    "df.head()"
   ]
  },
  {
   "cell_type": "code",
   "execution_count": 11,
   "metadata": {
    "colab": {
     "base_uri": "https://localhost:8080/"
    },
    "id": "pwTnDndNs5CA",
    "outputId": "c5968808-b94c-42a3-bbfa-c1ee749806f8"
   },
   "outputs": [
    {
     "data": {
      "text/plain": [
       "0    4634\n",
       "1    3161\n",
       "Name: label, dtype: int64"
      ]
     },
     "execution_count": 11,
     "metadata": {},
     "output_type": "execute_result"
    }
   ],
   "source": [
    "df['label'].value_counts()"
   ]
  },
  {
   "cell_type": "code",
   "execution_count": 12,
   "metadata": {
    "id": "ItaTkTDRsrzA"
   },
   "outputs": [],
   "source": [
    "import matplotlib.pyplot as plt"
   ]
  },
  {
   "cell_type": "code",
   "execution_count": 13,
   "metadata": {
    "colab": {
     "base_uri": "https://localhost:8080/",
     "height": 406
    },
    "id": "CMjcoGdVsvga",
    "outputId": "c6c60fee-78bc-4f63-927c-090e8c750fe0"
   },
   "outputs": [
    {
     "data": {
      "image/png": "[encoded data removed]",
      "text/plain": [
       "<Figure size 640x480 with 1 Axes>"
      ]
     },
     "metadata": {},
     "output_type": "display_data"
    }
   ],
   "source": [
    "plt.pie(df['label'].value_counts(),labels=['Real','Fake'],autopct=\"%0.2f\")\n",
    "plt.show()"
   ]
  },
  {
   "cell_type": "code",
   "execution_count": 14,
   "metadata": {},
   "outputs": [],
   "source": [
    "from nltk.stem.porter import PorterStemmer\n",
    "ps=PorterStemmer()"
   ]
  },
  {
   "cell_type": "code",
   "execution_count": 15,
   "metadata": {},
   "outputs": [],
   "source": [
    "def transform_text(text):\n",
    "    text = text.lower()\n",
    "    \n",
    "    y=[]\n",
    "    for i in text.split():\n",
    "        y.append(ps.stem(i))\n",
    "    return \" \".join(y)"
   ]
  },
  {
   "cell_type": "code",
   "execution_count": 16,
   "metadata": {},
   "outputs": [],
   "source": [
    "df['text']=df['text'].apply(transform_text)"
   ]
  },
  {
   "cell_type": "code",
   "execution_count": 17,
   "metadata": {
    "id": "OWOW7II6rgFR"
   },
   "outputs": [],
   "source": [
    "X=df['text']\n",
    "Y=df['label']"
   ]
  },
  {
   "cell_type": "code",
   "execution_count": 18,
   "metadata": {
    "id": "-roymQn7twsd"
   },
   "outputs": [],
   "source": [
    "from sklearn.model_selection import train_test_split"
   ]
  },
  {
   "cell_type": "code",
   "execution_count": 19,
   "metadata": {
    "id": "DgFZfnC6t_Nb"
   },
   "outputs": [],
   "source": [
    "X_train,X_test,Y_train,Y_test=train_test_split(X,Y,test_size=0.2,random_state=2)"
   ]
  },
  {
   "cell_type": "code",
   "execution_count": 20,
   "metadata": {},
   "outputs": [],
   "source": [
    "from sklearn.feature_extraction.text import TfidfVectorizer"
   ]
  },
  {
   "cell_type": "code",
   "execution_count": 21,
   "metadata": {},
   "outputs": [],
   "source": [
    "tfidfvect=TfidfVectorizer(stop_words='english',max_df=0.9)"
   ]
  },
  {
   "cell_type": "code",
   "execution_count": 22,
   "metadata": {},
   "outputs": [],
   "source": [
    "X_train_trf=tfidfvect.fit_transform(X_train)\n",
    "X_test_trf=tfidfvect.transform(X_test)"
   ]
  },
  {
   "cell_type": "code",
   "execution_count": 23,
   "metadata": {},
   "outputs": [],
   "source": [
    "from sklearn.linear_model import PassiveAggressiveClassifier\n",
    "clf=PassiveAggressiveClassifier(max_iter=80)"
   ]
  },
  {
   "cell_type": "code",
   "execution_count": 24,
   "metadata": {},
   "outputs": [
    {
     "data": {
      "text/html": [
       "<style>#sk-container-id-1 {color: black;background-color: white;}#sk-container-id-1 pre{padding: 0;}#sk-container-id-1 div.sk-toggleable {background-color: white;}#sk-container-id-1 label.sk-toggleable__label {cursor: pointer;display: block;width: 100%;margin-bottom: 0;padding: 0.3em;box-sizing: border-box;text-align: center;}#sk-container-id-1 label.sk-toggleable__label-arrow:before {content: \"▸\";float: left;margin-right: 0.25em;color: #696969;}#sk-container-id-1 label.sk-toggleable__label-arrow:hover:before {color: black;}#sk-container-id-1 div.sk-estimator:hover label.sk-toggleable__label-arrow:before {color: black;}#sk-container-id-1 div.sk-toggleable__content {max-height: 0;max-width: 0;overflow: hidden;text-align: left;background-color: #f0f8ff;}#sk-container-id-1 div.sk-toggleable__content pre {margin: 0.2em;color: black;border-radius: 0.25em;background-color: #f0f8ff;}#sk-container-id-1 input.sk-toggleable__control:checked~div.sk-toggleable__content {max-height: 200px;max-width: 100%;overflow: auto;}#sk-container-id-1 input.sk-toggleable__control:checked~label.sk-toggleable__label-arrow:before {content: \"▾\";}#sk-container-id-1 div.sk-estimator input.sk-toggleable__control:checked~label.sk-toggleable__label {background-color: #d4ebff;}#sk-container-id-1 div.sk-label input.sk-toggleable__control:checked~label.sk-toggleable__label {background-color: #d4ebff;}#sk-container-id-1 input.sk-hidden--visually {border: 0;clip: rect(1px 1px 1px 1px);clip: rect(1px, 1px, 1px, 1px);height: 1px;margin: -1px;overflow: hidden;padding: 0;position: absolute;width: 1px;}#sk-container-id-1 div.sk-estimator {font-family: monospace;background-color: #f0f8ff;border: 1px dotted black;border-radius: 0.25em;box-sizing: border-box;margin-bottom: 0.5em;}#sk-container-id-1 div.sk-estimator:hover {background-color: #d4ebff;}#sk-container-id-1 div.sk-parallel-item::after {content: \"\";width: 100%;border-bottom: 1px solid gray;flex-grow: 1;}#sk-container-id-1 div.sk-label:hover label.sk-toggleable__label {background-color: #d4ebff;}#sk-container-id-1 div.sk-serial::before {content: \"\";position: absolute;border-left: 1px solid gray;box-sizing: border-box;top: 0;bottom: 0;left: 50%;z-index: 0;}#sk-container-id-1 div.sk-serial {display: flex;flex-direction: column;align-items: center;background-color: white;padding-right: 0.2em;padding-left: 0.2em;position: relative;}#sk-container-id-1 div.sk-item {position: relative;z-index: 1;}#sk-container-id-1 div.sk-parallel {display: flex;align-items: stretch;justify-content: center;background-color: white;position: relative;}#sk-container-id-1 div.sk-item::before, #sk-container-id-1 div.sk-parallel-item::before {content: \"\";position: absolute;border-left: 1px solid gray;box-sizing: border-box;top: 0;bottom: 0;left: 50%;z-index: -1;}#sk-container-id-1 div.sk-parallel-item {display: flex;flex-direction: column;z-index: 1;position: relative;background-color: white;}#sk-container-id-1 div.sk-parallel-item:first-child::after {align-self: flex-end;width: 50%;}#sk-container-id-1 div.sk-parallel-item:last-child::after {align-self: flex-start;width: 50%;}#sk-container-id-1 div.sk-parallel-item:only-child::after {width: 0;}#sk-container-id-1 div.sk-dashed-wrapped {border: 1px dashed gray;margin: 0 0.4em 0.5em 0.4em;box-sizing: border-box;padding-bottom: 0.4em;background-color: white;}#sk-container-id-1 div.sk-label label {font-family: monospace;font-weight: bold;display: inline-block;line-height: 1.2em;}#sk-container-id-1 div.sk-label-container {text-align: center;}#sk-container-id-1 div.sk-container {/* jupyter's `normalize.less` sets `[hidden] { display: none; }` but bootstrap.min.css set `[hidden] { display: none !important; }` so we also need the `!important` here to be able to override the default hidden behavior on the sphinx rendered scikit-learn.org. See: https://github.com/scikit-learn/scikit-learn/issues/21755 */display: inline-block !important;position: relative;}#sk-container-id-1 div.sk-text-repr-fallback {display: none;}</style><div id=\"sk-container-id-1\" class=\"sk-top-container\"><div class=\"sk-text-repr-fallback\"><pre>PassiveAggressiveClassifier(max_iter=80)</pre><b>In a Jupyter environment, please rerun this cell to show the HTML representation or trust the notebook. <br />On GitHub, the HTML representation is unable to render, please try loading this page with nbviewer.org.</b></div><div class=\"sk-container\" hidden><div class=\"sk-item\"><div class=\"sk-estimator sk-toggleable\"><input class=\"sk-toggleable__control sk-hidden--visually\" id=\"sk-estimator-id-1\" type=\"checkbox\" checked><label for=\"sk-estimator-id-1\" class=\"sk-toggleable__label sk-toggleable__label-arrow\">PassiveAggressiveClassifier</label><div class=\"sk-toggleable__content\"><pre>PassiveAggressiveClassifier(max_iter=80)</pre></div></div></div></div></div>"
      ],
      "text/plain": [
       "PassiveAggressiveClassifier(max_iter=80)"
      ]
     },
     "execution_count": 24,
     "metadata": {},
     "output_type": "execute_result"
    }
   ],
   "source": [
    "clf.fit(X_train_trf,Y_train)"
   ]
  },
  {
   "cell_type": "code",
   "execution_count": 25,
   "metadata": {},
   "outputs": [],
   "source": [
    "Y_pred=clf.predict(X_test_trf)"
   ]
  },
  {
   "cell_type": "code",
   "execution_count": 26,
   "metadata": {},
   "outputs": [],
   "source": [
    "from sklearn.metrics import accuracy_score,confusion_matrix,precision_score,recall_score"
   ]
  },
  {
   "cell_type": "code",
   "execution_count": 27,
   "metadata": {},
   "outputs": [
    {
     "data": {
      "text/plain": [
       "0.9339320076972418"
      ]
     },
     "execution_count": 27,
     "metadata": {},
     "output_type": "execute_result"
    }
   ],
   "source": [
    "accuracy_score(Y_test,Y_pred)"
   ]
  },
  {
   "cell_type": "code",
   "execution_count": 28,
   "metadata": {},
   "outputs": [
    {
     "data": {
      "text/plain": [
       "array([[888,  55],\n",
       "       [ 48, 568]], dtype=int64)"
      ]
     },
     "execution_count": 28,
     "metadata": {},
     "output_type": "execute_result"
    }
   ],
   "source": [
    "confusion_matrix(Y_test,Y_pred,labels=[0,1])"
   ]
  },
  {
   "cell_type": "code",
   "execution_count": 29,
   "metadata": {},
   "outputs": [
    {
     "data": {
      "text/plain": [
       "0.9117174959871589"
      ]
     },
     "execution_count": 29,
     "metadata": {},
     "output_type": "execute_result"
    }
   ],
   "source": [
    "precision_score(Y_test,Y_pred)"
   ]
  },
  {
   "cell_type": "code",
   "execution_count": 30,
   "metadata": {},
   "outputs": [
    {
     "data": {
      "text/plain": [
       "0.922077922077922"
      ]
     },
     "execution_count": 30,
     "metadata": {},
     "output_type": "execute_result"
    }
   ],
   "source": [
    "recall_score(Y_test,Y_pred)"
   ]
  },
  {
   "cell_type": "code",
   "execution_count": 31,
   "metadata": {},
   "outputs": [],
   "source": [
    "import pickle\n",
    "pickle.dump(tfidfvect,open('vectorizer.pkl','wb'))\n",
    "pickle.dump(clf,open('model.pkl','wb'))"
   ]
  },
  {
   "cell_type": "code",
   "execution_count": 32,
   "metadata": {},
   "outputs": [],
   "source": [
    "tfidf = pickle.load(open('vectorizer.pkl','rb'))\n",
    "model = pickle.load(open('model.pkl','rb'))"
   ]
  },
  {
   "cell_type": "code",
   "execution_count": 36,
   "metadata": {},
   "outputs": [
    {
     "name": "stdout",
     "output_type": "stream",
     "text": [
      "Enter the news: The role of the US and Nato in EU relations with China by Manlio Dinucci Participating in an international conference, the Italian geographer Manlio Dinucci ties together the various strands of his analysis of the weapons that the US has at its disposal to dominate the entire world. Yet the importance of this article goes beyond that. For it is on account of this domination, this unipolar global order, that Syria, Russia and China, challenge today the use of force. Voltaire Network | Rome (Italy) | 28 October 2016 franÃ§ais EspaÃ±ol I will get straight to the heart of the issue. I do not think it possible to speak of relations between the European Union (the EU) and China independently of the influence the United States wields over the EU directly and [indirectly], through Nato. Today 22 of the 28 (27 once Great Britain has left the EU), EU member states with more than 90% of the EU population, are members of Nato, recognized as the â€œfoundation for collective defenceâ€. And Nato is under US command: the US Supreme Allied Command in Europe is always appointed by the US President and all the other key commands are in the USâ€™s hands. Accordingly, the EUâ€™s foreign and military policy is fundamentally subordinated to the US strategy to which the major European powers have aligned themselves. Such a strategy, clearly announced in official documents, is sketched out at that moment in history when, following the dissolution of the URSS, the world situation changes. In 1991, the White House declares in the National Security Strategy of the United States : â€œThe United States remains the only State with the force, capability and influence in every dimension â€“ political, economic and military â€“ that is effectively global. Nothing can substitute for US leadershipâ€. In 1992, in the Defense Planning Guidance , the Pentagon emphasizes: â€œOur primary objective is to prevent any hostile power dominating a region whose resources would be sufficient to generate a global power. These regions include Western Europe, Eastern Asia, the territory of the former Soviet Union and South-West Asiaâ€. In 2001, in the report Quadrennial Defense Review â€“ published a week before the US/Nato war in Afghanistan, an area of primary geostrategic importance in relation to Russia and China - the Pentagon announces: â€œIt is possible that a military rival may emerge in Asia with a formidable resource base. US armed forces must maintain their capabilities to impose the USâ€™s will on any adversary, so as to change the regime of an enemy state or to occupy a foreign territory so that US strategic objectives can be realizedâ€. On the basis of this strategy, US-led Nato, has launched an offensive on the Eastern front: after demolishing by war the Federation of Yugoslavia, from 1999 to date, it has subsumed all the countries of the former Warsaw Pact, three of the former Yugoslavia, three of the former URSS and very soon will incorporate others (starting from Georgia and Ukraine â€“ the latter a de facto Nato member), moving bases and forces, nuclear included, ever closer to the Russian borders. At the same time, on the Southern front, closely connected to the Eastern front, the war waged by the US-led Nato has demolished the Libyan State and has tried to do the same thing with the Syrian State. USA and Nato have tried to make the Ukraine crisis explode and, accusing Russia of â€œdestabilizing European securityâ€, have dragged Europe into a new Cold War, intended particularly by Washington (at the cost of European economies damaged by sanctions and counter-sanctions) to fracture EUâ€“Russian political and economic relations damaged by US interests. This same strategy also includes an increasing deployment of US military forces in the Asia/Pacific region for anti-Chinese reasons. The U.S. Navy has announced that in 2020 it will concentrate 60% of its naval and air forces in this region. The US strategy is focused on the South China Sea and Admiral Harris, head of the US Command for the Pacific, emphasizes the importance of this: through this sea passes maritime trade with an annual value of more than 5,000 billion dollars, including 25% from global export of oil and 50% of natural gas. The US wants to control these routes in the name of which Admiral Harris defines â€œthe freedom of navigation fundamental for our way of life here in the USâ€, accusing China, in his very words of â€œaggressive actions in the South China Sea, similar to Russian action in the Crimeaâ€. For this, the US Navy â€œis patrollingâ€ the South China Sea. Riding on the back of the US, the biggest European powers arrive: last July, France has requested the European Union to â€œcoordinate the naval surveillance of the South China Sea to ensure a regular and visible presence in these waters over which China has illegally asserted titleâ€. And while the US established in South Korea anti-missile systems which are also capable of launching nuclear missiles, similar to those installed against Russia in Romania and very shortly in Poland, as well as on board the war ships in the Mediterranean, on 6 October, the Nato Secretary General Stoltenberg receives South Koreaâ€™s Minister for Foreign Affairs at Brussels, to â€œstrengthen Natoâ€™s partnership with Seoulâ€. These and other facts demonstrate that the same strategy is implemented in Europe and Asia. It is the extreme attempt of the United States and other Western Powers to maintain their economic, political and military supremacy in a world, radically transformed, where new states and social subjects are emerging. The Shanghai Organization for Co-operation, born out of a strategic Chinese-Russian agreement, provides resources and working capacities, making it the biggest integrated economic area in the world. The Shanghai and BRICS organizations are capable, with their financial organizations, of largely displacing the World Bank and the International Monetary Fund that, for more than 70 years, have allowed the USA and major western powers to dominate the global economy through loans that fetter the economic sovereignty of indebted countries and other financial instruments. The new organizations can, at the same time, achieve a de-dollarization of their trade agreements, depriving the US of its capacity to off-load its debt on the other countries, by printing dollar notes used as the dominant international currency. To maintain its supremacy, increasingly wavering, the US relies not only on the strength of its weapons, but also weapons more efficient than â€œweaponsâ€ in the strict sense of the word. The first weapon: the so-called â€œFree Trade Agreementsâ€ such as the â€œTransatlantic Partnership on Trade and Investmentâ€ (TTIP) between the USA and the EU and the â€œTranspacific Partnershipâ€ (TPP), both of which have economic, geopolitical and geostrategic objectives. This is why, Hillary Clinton defines the EU-US partnership â€œthe biggest strategic aim of our transatlantic allianceâ€, proposing an â€œEconomic Natoâ€ that integrates that the political with the military. The plan is clear: to form a political, economic and military US-EU block, increasingly under US command which acts as a countervailing force to the following: â€¢ the Eurasiatic area, now on the rise and based on cooperation between China and Russia; â€¢ the Brics; and â€¢ Iran and any other country that manages to escape Western domination. The TTIP negotiations are struggling to make headway due to a conflict of interests and vast opposition in Europe. But that obstacle is now circumvented through the â€œComprehensive Economic and Trade Agreementâ€ (CETA) between Canada and the EU: a TTIP in disguise, given that Canada is already party to NAFTA which also binds the USA. The EU will probably sign off CETA when the Canadian Prime Minister Trudeau visits Brussels this 27 October. The second weapon: penetrating the target countries from within. Leverage is drawn from the weak points that each country has to varying extents: corruption, a greed for money, political ascent, secessionary movements fed by local power groups, religious fanaticism, the vulnerability of the great masses for political demagogy. Playing as well, in certain cases, on a justified popular dissatisfaction with the actions of their own government. The instruments used to penetrate? The so-called â€œnon-governmental organizationsâ€. These are, in actual fact, the long hand of the Department of State and the CIA. These NGOs, endowed with deep pools of financial resources, have organized the Eastern European â€œcolour revolutionsâ€ and replicated the same operation with the so-called â€œUmbrella Revolutionâ€ in Hong Kong, aiming at developing similar movements in other parts of China where the national minorities live. The same organizations operate in Latin America, with the primary objective of subverting Brazilâ€™s democratic institutions, thereby threatening Brics from within. Instruments to achieve the strategy are terrorist groups, such as those armed and infiltrated in Libya and Syria to sow seeds of chaos, contributing to destruction of whole States attacked at the same time from outside. The third arm: â€œPsyopsâ€ (Psychological operations), launched through the global media chains, defined as follows by the Pentagon: â€œPlanned Operations to influence, through specific information, the emotions and mindset, and thus the conduct of public opinion, organizations and foreign governments, so as to induce or strengthen conduct favourable to pre-established objectivesâ€. Such operations, prepare public opinion for warlike escalation and create the impression that Russia is responsible for tensions in Europe just as China is for the tensions in Asia, as well as accusing them at the same time of â€œviolating human rightsâ€. 1965: Manlio Dinucci, and his wife, Carla, before the ancestral home of Mao Tse Toung. A final consideration: during the sixties, my wife and I worked in Peking, contributing, inter alia, to the publication of the first Chinese journal in the Italian language. I experienced a life-changing learning experience when China â€“ liberated from the colonial, semi-colonial and semi-feudal conditions for at least 15 years â€“ was completely isolated. Neither the West nor the United Nations recognized it as a sovereign state. This period imprinted on my mind, the ability of the Chinese people (at the time totalling 600 million), to resist, their consciousness and commitment under the guide of the Communist party to constructing a society with a brand new economic and cultural foundation. I think that this capacity is today still needed so that todayâ€™s China, that is developing its enormous potential, can resist new plans for imperial domination and contribute to the decisive struggle for the future of humanity: a world free of wars; where peace, inextricably linked to social justice, prevails. Manlio Dinucci Translation Anoosha Boralessa\n"
     ]
    },
    {
     "name": "stdout",
     "output_type": "stream",
     "text": [
      "Fake\n"
     ]
    }
   ],
   "source": [
    "input_sms = input(\"Enter the news: \")\n",
    "transformed_sms = transform_text(input_sms)\n",
    "vector_input = tfidf.transform([transformed_sms])\n",
    "result = model.predict(vector_input)[0]\n",
    "if result == 0:\n",
    "    print(\"Fake\")\n",
    "else:\n",
    "      print(\"Real\")"
   ]
  },
  {
   "cell_type": "code",
   "execution_count": 34,
   "metadata": {},
   "outputs": [],
   "source": [
    "from nltk.corpus import stopwords"
   ]
  }
 ],
 "metadata": {
  "colab": {
   "provenance": []
  },
  "kernelspec": {
   "display_name": "Python 3 (ipykernel)",
   "language": "python",
   "name": "python3"
  },
  "language_info": {
   "codemirror_mode": {
    "name": "ipython",
    "version": 3
   },
   "file_extension": ".py",
   "mimetype": "text/x-python",
   "name": "python",
   "nbconvert_exporter": "python",
   "pygments_lexer": "ipython3",
   "version": "3.10.5"
  }
 },
 "nbformat": 4,
 "nbformat_minor": 1
}
